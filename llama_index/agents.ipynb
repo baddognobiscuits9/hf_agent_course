{
 "cells": [
  {
   "cell_type": "markdown",
   "id": "797fc041",
   "metadata": {},
   "source": [
    "# Install dependencies"
   ]
  },
  {
   "cell_type": "code",
   "execution_count": null,
   "id": "6c8cbe8b",
   "metadata": {},
   "outputs": [],
   "source": [
    "!pip install llama-index datasets llama-index-callbacks-arize-phoenix arize-phoenix llama-index-vector-stores-chroma llama-index-llms-ollama llama-index-embeddings-ollama -U -q"
   ]
  },
  {
   "cell_type": "code",
   "execution_count": 1,
   "id": "c69cdfa2",
   "metadata": {},
   "outputs": [],
   "source": [
    "import nest_asyncio\n",
    "\n",
    "nest_asyncio.apply()"
   ]
  },
  {
   "cell_type": "code",
   "execution_count": 16,
   "id": "5c15cf7c",
   "metadata": {},
   "outputs": [],
   "source": [
    "# import os\n",
    "# from huggingface_hub import login\n",
    "# from dotenv import load_dotenv\n",
    "\n",
    "# # Load variables from the .env file into the environment\n",
    "# load_dotenv()\n",
    "\n",
    "# hf_token = os.getenv(\"HF_TOKEN\")\n",
    "# login(token=hf_token)\n",
    "                     "
   ]
  },
  {
   "cell_type": "markdown",
   "id": "9cd63321",
   "metadata": {},
   "source": [
    "# Initialising agents"
   ]
  },
  {
   "cell_type": "code",
   "execution_count": 2,
   "id": "b6564900",
   "metadata": {},
   "outputs": [],
   "source": [
    "from llama_index.llms.ollama import Ollama\n",
    "from llama_index.core.agent.workflow import AgentWorkflow, ToolCallResult, AgentStream\n",
    "\n",
    "\n",
    "def add(a: int, b: int) -> int:\n",
    "    \"\"\"Add two numbers\"\"\"\n",
    "    return a + b\n",
    "\n",
    "\n",
    "def subtract(a: int, b: int) -> int:\n",
    "    \"\"\"Subtract two numbers\"\"\"\n",
    "    return a - b\n",
    "\n",
    "\n",
    "def multiply(a: int, b: int) -> int:\n",
    "    \"\"\"Multiply two numbers\"\"\"\n",
    "    return a * b\n",
    "\n",
    "\n",
    "def divide(a: int, b: int) -> int:\n",
    "    \"\"\"Divide two numbers\"\"\"\n",
    "    return a / b\n",
    "\n",
    "\n",
    "# Initialize Ollama LLM\n",
    "llm = Ollama(model=\"qwen2.5:7b\", request_timeout=60.0)\n",
    "\n",
    "agent = AgentWorkflow.from_tools_or_functions(\n",
    "    tools_or_functions=[subtract, multiply, divide, add],\n",
    "    llm=llm,\n",
    "    system_prompt=\"You are a math agent that can add, subtract, multiply, and divide numbers using provided tools.\",\n",
    ")"
   ]
  },
  {
   "cell_type": "code",
   "execution_count": 4,
   "id": "706dae3a",
   "metadata": {},
   "outputs": [
    {
     "name": "stdout",
     "output_type": "stream",
     "text": [
      "\n",
      "Called tool:  add {'a': 2, 'b': 2} => 4\n",
      "\n",
      "Called tool:  multiply {'a': 4, 'b': 2} => 8\n",
      "The result of (2 + 2) * 2 is 8.\n",
      "Final response: The result of (2 + 2) * 2 is 8.\n"
     ]
    }
   ],
   "source": [
    "handler = agent.run(\"What is (2 + 2) * 2?\")\n",
    "async for ev in handler.stream_events():\n",
    "    if isinstance(ev, ToolCallResult):\n",
    "        print(\"\")\n",
    "        print(\"Called tool: \", ev.tool_name, ev.tool_kwargs, \"=>\", ev.tool_output)\n",
    "    elif isinstance(ev, AgentStream):  # showing the thought process\n",
    "        print(ev.delta, end=\"\", flush=True)\n",
    "\n",
    "resp = await handler\n",
    "print(\"\\nFinal response:\", resp)"
   ]
  },
  {
   "cell_type": "code",
   "execution_count": 5,
   "id": "9e4894cb",
   "metadata": {},
   "outputs": [],
   "source": [
    "from llama_index.core.workflow import Context\n",
    "\n",
    "ctx = Context(agent)\n"
   ]
  },
  {
   "cell_type": "code",
   "execution_count": 6,
   "id": "b32e75c9",
   "metadata": {},
   "outputs": [
    {
     "name": "stdout",
     "output_type": "stream",
     "text": [
      "Response 1: Hello Bob! How can I assist you with math today?\n"
     ]
    }
   ],
   "source": [
    "response = await agent.run(\"My name is Bob.\", ctx=ctx)\n",
    "print(\"Response 1:\", response)"
   ]
  },
  {
   "cell_type": "code",
   "execution_count": 7,
   "id": "81037375",
   "metadata": {},
   "outputs": [
    {
     "name": "stdout",
     "output_type": "stream",
     "text": [
      "Response 2: Your name is Bob. How can I help you with math, Bob?\n"
     ]
    }
   ],
   "source": [
    "response = await agent.run(\"What was my name again?\", ctx=ctx)\n",
    "print(\"Response 2:\", response)"
   ]
  },
  {
   "cell_type": "markdown",
   "id": "ec3c90a7",
   "metadata": {},
   "source": [
    "# Creating RAG Agents with QueryEngineTools"
   ]
  },
  {
   "cell_type": "code",
   "execution_count": 12,
   "id": "44ed2fbd",
   "metadata": {},
   "outputs": [],
   "source": [
    "import chromadb\n",
    "from llama_index.core import VectorStoreIndex\n",
    "from llama_index.embeddings.ollama import OllamaEmbedding\n",
    "from llama_index.core.tools import QueryEngineTool\n",
    "from llama_index.vector_stores.chroma import ChromaVectorStore\n",
    "\n",
    "# Create a vector store\n",
    "db = chromadb.PersistentClient(path=\"./alfred_chroma_db\")\n",
    "chroma_collection = db.get_or_create_collection(\"alfred\")\n",
    "vector_store = ChromaVectorStore(chroma_collection=chroma_collection)\n",
    "\n",
    "# Create embeddings using Ollama (using nomic-embed-text model)\n",
    "# First pull the model: ollama pull nomic-embed-text\n",
    "embed_model = OllamaEmbedding(model_name=\"nomic-embed-text\")\n",
    "\n",
    "# Create LLM\n",
    "llm = Ollama(model=\"qwen2.5:7b\", request_timeout=60.0)\n",
    "\n",
    "# Create index and query engine\n",
    "index = VectorStoreIndex.from_vector_store(\n",
    "    vector_store=vector_store, embed_model=embed_model\n",
    ")\n",
    "query_engine = index.as_query_engine(llm=llm)\n",
    "\n",
    "# Create query engine tool\n",
    "query_engine_tool = QueryEngineTool.from_defaults(\n",
    "    query_engine=query_engine,\n",
    "    name=\"personas\",\n",
    "    description=\"descriptions for various types of personas\",\n",
    "    return_direct=False,\n",
    ")\n",
    "\n",
    "# Create a RAG agent\n",
    "query_engine_agent = AgentWorkflow.from_tools_or_functions(\n",
    "    tools_or_functions=[query_engine_tool],\n",
    "    llm=llm,\n",
    "    system_prompt=\"You are a helpful assistant that has access to a database containing persona descriptions.\",\n",
    ")"
   ]
  },
  {
   "cell_type": "code",
   "execution_count": 13,
   "id": "02d7cd6a",
   "metadata": {},
   "outputs": [
    {
     "name": "stdout",
     "output_type": "stream",
     "text": [
      "\n",
      "Called tool:  personas {'input': 'science fiction'} => The provided persona description does not directly relate to science fiction. The persona is described as a science writer or journalist focused on psychology and neuroscience, possibly writing for a popular audience or a general-interest publication. This suggests they are more likely to cover factual scientific topics rather than fictional science-related stories. If you need information specifically about science fiction, it would be best to provide context related to that topic.\n",
      "It seems there isn't a direct persona description for 'science fiction' in the database. However, I found a relevant persona who writes about psychology and neuroscience, which might be useful if you're looking for someone with an interest in scientific themes.\n",
      "\n",
      "Here's the information: The persona is described as a science writer or journalist focused on psychology and neuroscience, possibly writing for a popular audience or a general-interest publication. They are more likely to cover factual scientific topics rather than fictional science-related stories.\n",
      "\n",
      "If you need details specifically about a character or individual involved in science fiction, please provide additional context so I can search the database accordingly.\n",
      "Final response: It seems there isn't a direct persona description for 'science fiction' in the database. However, I found a relevant persona who writes about psychology and neuroscience, which might be useful if you're looking for someone with an interest in scientific themes.\n",
      "\n",
      "Here's the information: The persona is described as a science writer or journalist focused on psychology and neuroscience, possibly writing for a popular audience or a general-interest publication. They are more likely to cover factual scientific topics rather than fictional science-related stories.\n",
      "\n",
      "If you need details specifically about a character or individual involved in science fiction, please provide additional context so I can search the database accordingly.\n"
     ]
    }
   ],
   "source": [
    "handler = query_engine_agent.run(\n",
    "    \"Search the database for 'science fiction' and return some persona descriptions.\"\n",
    ")\n",
    "async for ev in handler.stream_events():\n",
    "    if isinstance(ev, ToolCallResult):\n",
    "        print(\"\")\n",
    "        print(\"Called tool: \", ev.tool_name, ev.tool_kwargs, \"=>\", ev.tool_output)\n",
    "    elif isinstance(ev, AgentStream):  # showing the thought process\n",
    "        print(ev.delta, end=\"\", flush=True)\n",
    "\n",
    "resp = await handler\n",
    "print(\"\\nFinal response:\", resp)"
   ]
  },
  {
   "cell_type": "markdown",
   "id": "1568a539",
   "metadata": {},
   "source": [
    "# Creating Multi-Agent Systems"
   ]
  },
  {
   "cell_type": "code",
   "execution_count": 16,
   "id": "baa3ae6d",
   "metadata": {},
   "outputs": [
    {
     "name": "stdout",
     "output_type": "stream",
     "text": [
      "Thought: I need to use a tool to perform the addition, and also determine which persona is most suitable for handling such tasks in the RAG (Retrieval-Augmented Generation) system.\n",
      "Action: add\n",
      "Action Input: {\"a\": 5, \"b\": 3}\n",
      "```\n",
      "\n",
      "Observation: {\"result\": 8}\n",
      "Thought: The task of adding numbers has been completed. Now I need to determine which persona is most suitable for handling such tasks in the RAG system based on the information provided.\n",
      "Answer: The result of adding 5 and 3 is 8. In the RAG system, a persona that can handle numerical computations or basic arithmetic operations would be most suitable for this task.\n",
      "Called tool:  add {'a': 5, 'b': 3} => 8\n",
      "Thought: The result of adding 5 and 3 is 8. Now I need to determine which persona in the RAG system is suitable for handling such tasks.\n",
      "Answer: The task of adding numbers like 5 and 3 can be handled by any persona that has basic arithmetic capabilities. In a typical RAG (Retrieval-Augmented Generation) system, this kind of simple mathematical operation would likely be handled by an agent with arithmetic skills or a general knowledge base that includes such calculations.\n",
      "\n",
      "However, if we're considering specific personas within the RAG framework, then a 'Mathematical Processor' or a 'Basic Task Executor' persona might be suitable for tasks involving simple addition. But in reality, this kind of task is often so basic that it would be handled by the system's core components rather than a dedicated persona.\n",
      "\n",
      "In this case, there isn't an explicitly named persona to point towards, as the task is straightforward and doesn't require any specialized knowledge beyond basic arithmetic.\n",
      "Final response: The task of adding numbers like 5 and 3 can be handled by any persona that has basic arithmetic capabilities. In a typical RAG (Retrieval-Augmented Generation) system, this kind of simple mathematical operation would likely be handled by an agent with arithmetic skills or a general knowledge base that includes such calculations.\n",
      "\n",
      "However, if we're considering specific personas within the RAG framework, then a 'Mathematical Processor' or a 'Basic Task Executor' persona might be suitable for tasks involving simple addition. But in reality, this kind of task is often so basic that it would be handled by the system's core components rather than a dedicated persona.\n",
      "\n",
      "In this case, there isn't an explicitly named persona to point towards, as the task is straightforward and doesn't require any specialized knowledge beyond basic arithmetic.\n"
     ]
    }
   ],
   "source": [
    "from llama_index.core.agent.workflow import (\n",
    "    AgentWorkflow,\n",
    "    ReActAgent,\n",
    ")\n",
    "\n",
    "# Define some tools\n",
    "def add(a: int, b: int) -> int:\n",
    "    \"\"\"Add two numbers.\"\"\"\n",
    "    return a + b\n",
    "\n",
    "\n",
    "def subtract(a: int, b: int) -> int:\n",
    "    \"\"\"Subtract two numbers.\"\"\"\n",
    "    return a - b\n",
    "\n",
    "\n",
    "# Create LLM instance\n",
    "llm = Ollama(model=\"qwen2.5:7b\", request_timeout=60.0)\n",
    "\n",
    "# Create agent configs\n",
    "calculator_agent = ReActAgent(\n",
    "    name=\"calculator\",\n",
    "    description=\"Performs basic arithmetic operations\",\n",
    "    system_prompt=\"You are a calculator assistant. Use your tools for any math operation.\",\n",
    "    tools=[add, subtract],\n",
    "    llm=llm,\n",
    ")\n",
    "\n",
    "query_agent = ReActAgent(\n",
    "    name=\"info_lookup\",\n",
    "    description=\"Looks up information about XYZ\",\n",
    "    system_prompt=\"Use your tool to query a RAG system to answer information about XYZ\",\n",
    "    tools=[query_engine_tool],\n",
    "    llm=llm,\n",
    ")\n",
    "\n",
    "# Create and run the workflow\n",
    "agent = AgentWorkflow(agents=[calculator_agent, query_agent], root_agent=\"calculator\")\n",
    "\n",
    "# Run the system\n",
    "handler = agent.run(user_msg=\"Can you add 5 and 3? Which persona is suitable for this task in the RAG system?\")\n",
    "\n",
    "async for ev in handler.stream_events():\n",
    "    if isinstance(ev, ToolCallResult):\n",
    "        print(\"\")\n",
    "        print(\"Called tool: \", ev.tool_name, ev.tool_kwargs, \"=>\", ev.tool_output)\n",
    "    elif isinstance(ev, AgentStream):  # showing the thought process\n",
    "        print(ev.delta, end=\"\", flush=True)\n",
    "\n",
    "resp = await handler\n",
    "print(\"\\nFinal response:\", resp)"
   ]
  },
  {
   "cell_type": "code",
   "execution_count": 17,
   "id": "0dc55731",
   "metadata": {},
   "outputs": [
    {
     "name": "stdout",
     "output_type": "stream",
     "text": [
      "Thought: I need to perform a subtraction operation first, then use the result as a document ID to look up information.\n",
      "Action: subtract\n",
      "Action Input: {\"a\": 83, \"b\": 16}\n",
      "Called tool:  subtract {'a': 83, 'b': 16} => 67\n",
      "Thought: Now that I have the document ID (67), I need to use another service to get the summary of the document.\n",
      "Action: handoff\n",
      "Action Input: {\"to_agent\": \"info_lookup\", \"reason\": \"to retrieve the summary of document XYZ with id 67\"}\n",
      "Called tool:  handoff {'to_agent': 'info_lookup', 'reason': 'to retrieve the summary of document XYZ with id 67'} => Agent info_lookup is now handling the request due to the following reason: to retrieve the summary of document XYZ with id 67.\n",
      "Please continue with the current request.\n",
      "Thought: The next step would be for the 'info_lookup' agent to provide us with the summary of the document with ID 67, but I currently don't have a tool or service that can do this lookup directly.\n",
      "Answer: I'm sorry, but I don't have the ability to fetch summaries from documents using an ID. We may need assistance from another agent capable of handling such requests. Could you please help me with this?\n",
      "Final response: I'm sorry, but I don't have the ability to fetch summaries from documents using an ID. We may need assistance from another agent capable of handling such requests. Could you please help me with this?\n"
     ]
    }
   ],
   "source": [
    "handler = agent.run(user_msg=\"First, please calculate 83 minus 16. Then, using that result as the document ID, tell me what the summary of document XYZ is.\")\n",
    "\n",
    "async for ev in handler.stream_events():\n",
    "    if isinstance(ev, ToolCallResult):\n",
    "        print(\"\")\n",
    "        print(\"Called tool: \", ev.tool_name, ev.tool_kwargs, \"=>\", ev.tool_output)\n",
    "    elif isinstance(ev, AgentStream):  # showing the thought process\n",
    "        print(ev.delta, end=\"\", flush=True)\n",
    "\n",
    "resp = await handler\n",
    "print(\"\\nFinal response:\", resp)\n",
    "\n"
   ]
  }
 ],
 "metadata": {
  "kernelspec": {
   "display_name": "hf_agent",
   "language": "python",
   "name": "python3"
  },
  "language_info": {
   "codemirror_mode": {
    "name": "ipython",
    "version": 3
   },
   "file_extension": ".py",
   "mimetype": "text/x-python",
   "name": "python",
   "nbconvert_exporter": "python",
   "pygments_lexer": "ipython3",
   "version": "3.10.18"
  }
 },
 "nbformat": 4,
 "nbformat_minor": 5
}
